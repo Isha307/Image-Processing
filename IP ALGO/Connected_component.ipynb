{
  "nbformat": 4,
  "nbformat_minor": 0,
  "metadata": {
    "colab": {
      "name": "Connected-component.ipynb",
      "provenance": []
    },
    "kernelspec": {
      "name": "python3",
      "display_name": "Python 3"
    },
    "language_info": {
      "name": "python"
    }
  },
  "cells": [
    {
      "cell_type": "markdown",
      "metadata": {
        "id": "CHlvmkvsueNb"
      },
      "source": [
        "**Connected-component**"
      ]
    },
    {
      "cell_type": "markdown",
      "metadata": {
        "id": "tZcjog9N8HVb"
      },
      "source": [
        "Connected-component labeling (CCL), connected-component analysis (CCA), blob extraction, region labeling, blob discovery, or region extraction is an algorithmic application of graph theory, where subsets of connected components are uniquely labeled based on a given heuristic."
      ]
    },
    {
      "cell_type": "code",
      "metadata": {
        "colab": {
          "base_uri": "https://localhost:8080/",
          "height": 510
        },
        "id": "e8zmpfDo75Rx",
        "outputId": "b6a95d8c-1880-4999-e91e-af5492f8f6ba"
      },
      "source": [
        "import cv2\n",
        "import numpy as np\n",
        "import matplotlib.pyplot as plt\n",
        "\n",
        "def connected_component_label(path):\n",
        "    \n",
        "    # Getting the input image\n",
        "    img = cv2.imread(path, 0)\n",
        "    # Converting those pixels with values 1-127 to 0 and others to 1\n",
        "    img = cv2.threshold(img, 127, 255, cv2.THRESH_BINARY)[1]\n",
        "    # Applying cv2.connectedComponents() \n",
        "    num_labels, labels = cv2.connectedComponents(img)\n",
        "    \n",
        "    # Map component labels to hue val, 0-179 is the hue range in OpenCV\n",
        "    label_hue = np.uint8(179*labels/np.max(labels))\n",
        "    blank_ch = 255*np.ones_like(label_hue)\n",
        "    labeled_img = cv2.merge([label_hue, blank_ch, blank_ch])\n",
        "\n",
        "    # Converting cvt to BGR\n",
        "    labeled_img = cv2.cvtColor(labeled_img, cv2.COLOR_HSV2BGR)\n",
        "\n",
        "    # set bg label to black\n",
        "    labeled_img[label_hue==0] = 0\n",
        "    \n",
        "    \n",
        "    # Showing Original Image\n",
        "    plt.imshow(cv2.cvtColor(img, cv2.COLOR_BGR2RGB))\n",
        "    plt.axis(\"off\")\n",
        "    plt.title(\"Orginal Image\")\n",
        "    plt.show()\n",
        "    \n",
        "    #Showing Image after Component Labeling\n",
        "    plt.imshow(cv2.cvtColor(labeled_img, cv2.COLOR_BGR2RGB))\n",
        "    plt.axis('off')\n",
        "    plt.title(\"Image after Component Labeling\")\n",
        "    plt.show()\n",
        "img1 = cv2.imread('/content/image10.png')\n",
        "plt.imshow(cv2.cvtColor(img1, cv2.COLOR_BGR2RGB))\n",
        "connected_component_label('/content/image10.png')"
      ],
      "execution_count": 22,
      "outputs": [
        {
          "output_type": "display_data",
          "data": {
            "image/png": "[encoded data removed]",
            "text/plain": [
              "<Figure size 432x288 with 1 Axes>"
            ]
          },
          "metadata": {
            "tags": [],
            "needs_background": "light"
          }
        },
        {
          "output_type": "display_data",
          "data": {
            "image/png": "[encoded data removed]",
            "text/plain": [
              "<Figure size 432x288 with 1 Axes>"
            ]
          },
          "metadata": {
            "tags": [],
            "needs_background": "light"
          }
        }
      ]
    },
    {
      "cell_type": "markdown",
      "metadata": {
        "id": "fDQd8HOE-klA"
      },
      "source": [
        "A faster-scanning algorithm for connected-region extraction is presented below.\n",
        "\n",
        "On the first pass:\n",
        "\n",
        "Iterate through each element of the data by column, then by row (Raster Scanning)\n",
        "1. If the element is not the background\n",
        "2. Get the neighboring elements of the current element\n",
        "3. If there are no neighbors, uniquely label the current element and continue\n",
        "\n",
        "Otherwise, find the neighbor with the smallest label and assign it to the current element.\n",
        "\n",
        "Store the equivalence between neighboring labels\n",
        "On the second pass:\n",
        "\n",
        "1. Iterate through each element of the data by column, then by row\n",
        "2. If the element is not the background\n",
        "3. Relabel the element with the lowest equivalent label\n",
        "\n",
        "Here, the background is a classification, specific to the data, used to distinguish salient elements from the foreground. If the background variable is omitted, then the two-pass algorithm will treat the background as another region."
      ]
    }
  ]
}