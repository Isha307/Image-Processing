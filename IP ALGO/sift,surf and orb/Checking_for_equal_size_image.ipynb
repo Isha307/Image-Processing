{
  "nbformat": 4,
  "nbformat_minor": 0,
  "metadata": {
    "colab": {
      "name": "Checking for equal size image.ipynb",
      "provenance": [],
      "collapsed_sections": []
    },
    "kernelspec": {
      "name": "python3",
      "display_name": "Python 3"
    },
    "language_info": {
      "name": "python"
    }
  },
  "cells": [
    {
      "cell_type": "code",
      "metadata": {
        "id": "yrDLRIoEO6aC"
      },
      "source": [
        "import numpy as np\n",
        "import cv2\n",
        "from matplotlib import pyplot as plt\n",
        "\n",
        "# Read image \n",
        "original= cv2.imread('/content/img1.jpg')\n",
        "duplicate  = cv2.imread('/content/img1.jpg')  \n"
      ],
      "execution_count": 8,
      "outputs": []
    },
    {
      "cell_type": "code",
      "metadata": {
        "colab": {
          "base_uri": "https://localhost:8080/"
        },
        "id": "a91oMX3hX-M-",
        "outputId": "704dfa67-30bf-4e74-9480-4702267e58f9"
      },
      "source": [
        "if original.shape == duplicate.shape:\n",
        "    print(\"The images have same size and channels\")\n",
        "else:\n",
        "  print(\"Not Equal\")\n",
        "difference = cv2.subtract(original, duplicate)\n",
        "b, g, r = cv2.split(difference)\n",
        "if cv2.countNonZero(b) == 0 and cv2.countNonZero(g) == 0 and cv2.countNonZero(r) == 0:\n",
        "   print(\"The images are completely Equal\")"
      ],
      "execution_count": 9,
      "outputs": [
        {
          "output_type": "stream",
          "text": [
            "The images have same size and channels\n",
            "The images are completely Equal\n"
          ],
          "name": "stdout"
        }
      ]
    }
  ]
}