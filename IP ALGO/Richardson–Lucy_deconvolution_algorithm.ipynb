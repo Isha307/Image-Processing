{
  "nbformat": 4,
  "nbformat_minor": 0,
  "metadata": {
    "colab": {
      "name": "Richardson–Lucy deconvolution algorithm.ipynb",
      "provenance": [],
      "collapsed_sections": []
    },
    "kernelspec": {
      "name": "python3",
      "display_name": "Python 3"
    },
    "language_info": {
      "name": "python"
    }
  },
  "cells": [
    {
      "cell_type": "markdown",
      "metadata": {
        "id": "kzr7lHbe3s6K"
      },
      "source": [
        "# Richardson–Lucy deconvolution algorithm"
      ]
    },
    {
      "cell_type": "markdown",
      "metadata": {
        "id": "ltNl4tU43t-q"
      },
      "source": [
        "Restoration of digital images from their degraded measurement has always been a problem of\n",
        "great interest. \n",
        "\n",
        "A specific solution to the problem of image restoration is generally determined\n",
        "by the nature of degradation phenomena. So it is highly dependent on the nature of the\n",
        "noise present there.\n",
        "\n",
        "\n",
        "Given the noise function, one can use the Richardson-Lucy Algorithm\n",
        "to restore the degraded image. This algorithm was introduced by W.H. Richardson (1972)\n",
        "and L.B. Lucy (1974)."
      ]
    },
    {
      "cell_type": "markdown",
      "metadata": {
        "id": "FAowh7hP20iN"
      },
      "source": [
        "The Point Spread Function describes the response of an imaging system to a point source or point object"
      ]
    },
    {
      "cell_type": "markdown",
      "metadata": {
        "id": "_Fye_ESE9Be2"
      },
      "source": [
        "Richardson Lucy is probably the most commonly used deconvolution algorithm, it works well in most cases, especially if noise is relatively low, and you are able to create a reasonably accurate PSF. The standard Richardson Lucy algorithm is not “blind”, so you need to create the PSF(Point Spread Function) using a theoretical model, or by measuring it."
      ]
    },
    {
      "cell_type": "code",
      "metadata": {
        "id": "5YHSIC_C_87H"
      },
      "source": [
        "import imageio\n",
        "import DeconUtility\n",
        "import OpenCLDeconvUtility\n",
        "from skimage import io\n",
        "import matplotlib.pyplot as plt\n",
        "import numpy as np\n",
        "import time\n",
        "import YacuDecuUtility\n",
        "import itk\n",
        "\n",
        "# open image and psf\n",
        "imgName='/content/img1.jpg'\n",
        "#psfName='/home/bnorthan/code/images/PSF-Bars-stack-cropped.tif'\n",
        "\n",
        "img=io.imread(imgName)\n",
        "psf=psf = np.ones((5, 5)) / 25\n",
        "\n",
        "extDims=DeconUtility.nextPow2(img.shape)\n",
        "\n",
        "(img, padding)=DeconUtility.padNDImage(img, extDims, 'reflect')\n",
        "(psf, padding)=DeconUtility.padNDImage(psf, extDims, 'constant')\n",
        "\n",
        "print(img.shape)\n",
        "print(psf.shape)\n",
        "\n",
        "#matplotlib inline\n",
        "fig, ax = plt.subplots(1,2)\n",
        "ax[0].imshow(img.max(axis=0))\n",
        "ax[0].set_title('img')\n",
        "\n",
        "ax[1].imshow(psf.max(axis=0))\n",
        "ax[1].set_title('psf')\n",
        "\n",
        "img=img.astype(np.float32)\n",
        "psf=psf.astype(np.float32)\n",
        "psf=psf/psf.sum();\n",
        "shifted_psf = np.fft.ifftshift(psf)\n",
        "result = np.copy(img);\n",
        "normal=np.ones(img.shape).astype(np.float32)\n",
        "\n",
        "lib=YacuDecuUtility.getYacuDecu()\n",
        "print('GPU Memory is',lib.getTotalMem())\n",
        "\n",
        "start=time.time()\n",
        "lib.deconv_device(100, int(img.shape[0]), int(img.shape[1]), int(img.shape[2]), img, shifted_psf, result, normal)\n",
        "end=time.time()\n",
        "cudatime=end-start\n",
        "print('time is',end-start)\n",
        "\n",
        "libcl=OpenCLDeconvUtility.getArrayFire()\n",
        "deconcl=img.copy()\n",
        "\n",
        "start=time.time()\n",
        "libcl.deconv(100,img.shape[2], img.shape[1], img.shape[0], img, shifted_psf, deconcl, img);\n",
        "end=time.time()\n",
        "cvtime=end-start\n",
        "print('cl time', end-start)\n",
        "\n",
        "#matplotlib inline\n",
        "fig, ax = plt.subplots(1,3)\n",
        "ax[0].imshow(img.max(axis=0))\n",
        "ax[0].set_title('img')\n",
        "\n",
        "ax[1].imshow(result.max(axis=0))\n",
        "ax[1].set_title('result')\n",
        "\n",
        "ax[2].imshow(deconcl.max(axis=0))\n",
        "ax[2].set_title('opencl result')"
      ],
      "execution_count": null,
      "outputs": []
    }
  ]
}