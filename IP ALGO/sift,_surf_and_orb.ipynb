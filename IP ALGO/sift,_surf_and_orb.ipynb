{
  "nbformat": 4,
  "nbformat_minor": 0,
  "metadata": {
    "colab": {
      "name": "sift, surf and orb.ipynb",
      "provenance": [],
      "collapsed_sections": []
    },
    "kernelspec": {
      "name": "python3",
      "display_name": "Python 3"
    },
    "language_info": {
      "name": "python"
    }
  },
  "cells": [
    {
      "cell_type": "code",
      "metadata": {
        "colab": {
          "base_uri": "https://localhost:8080/"
        },
        "id": "V3jk92bdLruu",
        "outputId": "56111842-5713-4e5e-970c-7b7da594874b"
      },
      "source": [
        "import numpy as np\n",
        "import cv2\n",
        "from matplotlib import pyplot as plt\n",
        "\n",
        "# Read image \n",
        "img1 = cv2.imread('/content/img1.jpg')\n",
        "img2 = cv2.imread('/content/img2.jpg') \n",
        "\n",
        "# Initiate ORB detector\n",
        "orb = cv2.ORB_create()\n",
        "\n",
        "# Convering to Gray\n",
        "img1= cv2.cvtColor(img1,cv2.COLOR_BGR2GRAY)\n",
        "img2= cv2.cvtColor(img2,cv2.COLOR_BGR2GRAY)\n",
        "\n",
        "# find the keypoints and descriptors with ORB\n",
        "kp1, des1 = orb.detectAndCompute(img1,None)\n",
        "kp2, des2 = orb.detectAndCompute(img2,None)\n",
        "\n",
        "# no.of keypoints \n",
        "print(len(des1))\n",
        "print(len(des2))\n",
        "\n",
        "# BFMatcher with default params\n",
        "bf = cv2.BFMatcher()\n",
        "matches = bf.knnMatch(des1,des2, k=2)\n",
        "\n",
        "# Create images with keypoints\n",
        "img1=cv2.drawKeypoints(img1,kp1,img1)\n",
        "cv2.imwrite('2orb_keypoints.jpg',img1)\n",
        "\n",
        "img2=cv2.drawKeypoints(img2,kp2,img2)\n",
        "cv2.imwrite('3orb_keypoints.jpg',img2)\n",
        "\n",
        "# Apply ratio test\n",
        "good = []\n",
        "for m,n in matches:\n",
        "    if m.distance < 0.75*n.distance:\n",
        "        good.append([m])\n",
        "\n",
        "print(\"matches \")\n",
        "print(len(good))"
      ],
      "execution_count": 1,
      "outputs": [
        {
          "output_type": "stream",
          "text": [
            "500\n",
            "500\n",
            "matches \n",
            "123\n"
          ],
          "name": "stdout"
        }
      ]
    },
    {
      "cell_type": "code",
      "metadata": {
        "colab": {
          "base_uri": "https://localhost:8080/",
          "height": 570
        },
        "id": "-eMSowgtOPS3",
        "outputId": "22c0c7f1-8302-4f77-f308-a807173b85df"
      },
      "source": [
        "!pip install opencv-python==3.4.2.17\n",
        "!pip install opencv-contrib-python==3.4.2.17"
      ],
      "execution_count": 5,
      "outputs": [
        {
          "output_type": "stream",
          "text": [
            "Collecting opencv-python==3.4.2.17\n",
            "  Downloading opencv_python-3.4.2.17-cp37-cp37m-manylinux1_x86_64.whl (25.0 MB)\n",
            "\u001b[K     |████████████████████████████████| 25.0 MB 94 kB/s \n",
            "\u001b[?25hRequirement already satisfied: numpy>=1.14.5 in /usr/local/lib/python3.7/dist-packages (from opencv-python==3.4.2.17) (1.19.5)\n",
            "Installing collected packages: opencv-python\n",
            "  Attempting uninstall: opencv-python\n",
            "    Found existing installation: opencv-python 4.1.2.30\n",
            "    Uninstalling opencv-python-4.1.2.30:\n",
            "      Successfully uninstalled opencv-python-4.1.2.30\n",
            "\u001b[31mERROR: pip's dependency resolver does not currently take into account all the packages that are installed. This behaviour is the source of the following dependency conflicts.\n",
            "albumentations 0.1.12 requires imgaug<0.2.7,>=0.2.5, but you have imgaug 0.2.9 which is incompatible.\u001b[0m\n",
            "Successfully installed opencv-python-3.4.2.17\n"
          ],
          "name": "stdout"
        },
        {
          "output_type": "display_data",
          "data": {
            "application/vnd.colab-display-data+json": {
              "pip_warning": {
                "packages": [
                  "cv2"
                ]
              }
            }
          },
          "metadata": {}
        },
        {
          "output_type": "stream",
          "text": [
            "Collecting opencv-contrib-python==3.4.2.17\n",
            "  Downloading opencv_contrib_python-3.4.2.17-cp37-cp37m-manylinux1_x86_64.whl (30.6 MB)\n",
            "\u001b[K     |████████████████████████████████| 30.6 MB 20 kB/s \n",
            "\u001b[?25hRequirement already satisfied: numpy>=1.14.5 in /usr/local/lib/python3.7/dist-packages (from opencv-contrib-python==3.4.2.17) (1.19.5)\n",
            "Installing collected packages: opencv-contrib-python\n",
            "  Attempting uninstall: opencv-contrib-python\n",
            "    Found existing installation: opencv-contrib-python 4.1.2.30\n",
            "    Uninstalling opencv-contrib-python-4.1.2.30:\n",
            "      Successfully uninstalled opencv-contrib-python-4.1.2.30\n",
            "Successfully installed opencv-contrib-python-3.4.2.17\n"
          ],
          "name": "stdout"
        },
        {
          "output_type": "display_data",
          "data": {
            "application/vnd.colab-display-data+json": {
              "pip_warning": {
                "packages": [
                  "cv2"
                ]
              }
            }
          },
          "metadata": {}
        }
      ]
    },
    {
      "cell_type": "code",
      "metadata": {
        "colab": {
          "base_uri": "https://localhost:8080/"
        },
        "id": "S__jEIU_NqUo",
        "outputId": "c346f014-f4ef-4e08-ab71-d600f4e05025"
      },
      "source": [
        "import numpy as np\n",
        "import cv2\n",
        "from matplotlib import pyplot as plt\n",
        "\n",
        "# Read image \n",
        "img1 = cv2.imread('/content/img1.jpg')\n",
        "img2 = cv2.imread('/content/img2.jpg') \n",
        "\n",
        "# Initiate SIFT detector\n",
        "sift = cv2.xfeatures2d.SIFT_create()\n",
        "\n",
        "# Convering to Gray\n",
        "img1= cv2.cvtColor(img1,cv2.COLOR_BGR2GRAY)\n",
        "img2= cv2.cvtColor(img2,cv2.COLOR_BGR2GRAY)\n",
        "\n",
        "# find the keypoints and descriptors with SIFT\n",
        "kp1, des1 = sift.detectAndCompute(img1,None)\n",
        "kp2, des2 = sift.detectAndCompute(img2,None)\n",
        "\n",
        "# no.of keypoints \n",
        "print(len(des1))\n",
        "print(len(des2))\n",
        "\n",
        "# BFMatcher with default params\n",
        "bf = cv2.BFMatcher()\n",
        "matches = bf.knnMatch(des1,des2, k=2)\n",
        "\n",
        "# Create images with keypoints\n",
        "img1=cv2.drawKeypoints(img1,kp1,img1)\n",
        "cv2.imwrite('2sift_keypoints.jpg',img1)\n",
        "\n",
        "img2=cv2.drawKeypoints(img2,kp2,img2)\n",
        "cv2.imwrite('3sift_keypoints.jpg',img2)\n",
        "\n",
        "# Apply ratio test\n",
        "good = []\n",
        "for m,n in matches:\n",
        "    if m.distance < 0.75*n.distance:\n",
        "        good.append([m])\n",
        "\n",
        "print(\"matches \")\n",
        "print(len(good))"
      ],
      "execution_count": 1,
      "outputs": [
        {
          "output_type": "stream",
          "text": [
            "7614\n",
            "9899\n",
            "matches \n",
            "632\n"
          ],
          "name": "stdout"
        }
      ]
    },
    {
      "cell_type": "code",
      "metadata": {
        "colab": {
          "base_uri": "https://localhost:8080/"
        },
        "id": "yrDLRIoEO6aC",
        "outputId": "bd44b197-bdc6-4b2a-bb08-eff5aa20f365"
      },
      "source": [
        "import numpy as np\n",
        "import cv2\n",
        "from matplotlib import pyplot as plt\n",
        "\n",
        "# Read image \n",
        "img1 = cv2.imread('/content/img1.jpg')\n",
        "img2 = cv2.imread('/content/img2.jpg')  \n",
        "\n",
        "# Initiate SURF detector\n",
        "surf = cv2.xfeatures2d.SURF_create()\n",
        "\n",
        "# Convering to Gray\n",
        "img1= cv2.cvtColor(img1,cv2.COLOR_BGR2GRAY)\n",
        "img2= cv2.cvtColor(img2,cv2.COLOR_BGR2GRAY)\n",
        "\n",
        "# find the keypoints and descriptors with SURF\n",
        "kp1, des1 = surf.detectAndCompute(img1,None)\n",
        "kp2, des2 = surf.detectAndCompute(img2,None)\n",
        "\n",
        "# no.of keypoints \n",
        "print(len(des1))\n",
        "print(len(des2))\n",
        "\n",
        "# BFMatcher with default params\n",
        "bf = cv2.BFMatcher()\n",
        "matches = bf.knnMatch(des1,des2, k=2)\n",
        "\n",
        "# Create images with keypoints\n",
        "img1=cv2.drawKeypoints(img1,kp1,img1)\n",
        "cv2.imwrite('2surf_keypoints.jpg',img1)\n",
        "\n",
        "img2=cv2.drawKeypoints(img2,kp2,img2)\n",
        "cv2.imwrite('3surf_keypoints.jpg',img2)\n",
        "\n",
        "# Apply ratio test\n",
        "good = []\n",
        "for m,n in matches:\n",
        "    if m.distance < 0.75*n.distance:\n",
        "        good.append([m])\n",
        "\n",
        "print(\"matches \")\n",
        "print(len(good))"
      ],
      "execution_count": 2,
      "outputs": [
        {
          "output_type": "stream",
          "text": [
            "6885\n",
            "8387\n",
            "matches \n",
            "510\n"
          ],
          "name": "stdout"
        }
      ]
    }
  ]
}